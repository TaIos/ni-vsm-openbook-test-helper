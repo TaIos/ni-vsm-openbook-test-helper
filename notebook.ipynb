{
 "cells": [
  {
   "cell_type": "code",
   "execution_count": 1,
   "id": "7f94365f-f209-49cc-9429-326671213918",
   "metadata": {},
   "outputs": [],
   "source": [
    "import math\n",
    "import numpy as np\n",
    "import scipy.stats\n",
    "import scipy.linalg"
   ]
  },
  {
   "cell_type": "markdown",
   "id": "0fb4106b-314f-4d13-9503-024694023d81",
   "metadata": {},
   "source": [
    "# Entropie\n",
    "<img src=\"img/entropie.png\" width=\"50%\"/>"
   ]
  },
  {
   "cell_type": "code",
   "execution_count": 2,
   "id": "e47c642b-8b75-4145-a433-9f365edbd529",
   "metadata": {},
   "outputs": [
    {
     "name": "stdout",
     "output_type": "stream",
     "text": [
      "Entropie: 1.5\n"
     ]
    }
   ],
   "source": [
    "values =[1/2, 1/4, 1/4] # pravdepodobnosti\n",
    "res = 0\n",
    "for x in values:\n",
    "    res -= x * math.log(x,2)\n",
    "print(f\"Entropie: {res}\")"
   ]
  },
  {
   "cell_type": "markdown",
   "id": "39769539-3d6d-41b2-be29-7fc45e2394a5",
   "metadata": {},
   "source": [
    "# Střední délka kódu\n",
    "<img src=\"img/stredni-delka-kodu.png\" width=55%/>"
   ]
  },
  {
   "cell_type": "code",
   "execution_count": 3,
   "id": "26ca7713-d8ac-49ca-83f2-9fd1687a3454",
   "metadata": {},
   "outputs": [
    {
     "name": "stdout",
     "output_type": "stream",
     "text": [
      "Střední délka kódu: 1.5\n"
     ]
    }
   ],
   "source": [
    "ptsLst = [1/2, 1/4, 1/4] # pravdepodobnost kodoveho slova\n",
    "lenLst = [1, 2, 2] # delka kodoveho slova\n",
    "res = 0\n",
    "for p,l in zip(ptsLst, lenLst):\n",
    "    res += l*p\n",
    "print(f\"Střední délka kódu: {res}\")"
   ]
  },
  {
   "cell_type": "markdown",
   "id": "aa0e8e55-bbb1-429c-910b-fb314b173b12",
   "metadata": {},
   "source": [
    "# Test nezávislosti v kontingenčních tabulkách\n",
    "<img src=\"img/kontingencni-tabulky.png\" width=55%/>\n",
    "\n",
    "* [inverse survival function obrazek (uplne dole)](https://www.itl.nist.gov/div898/handbook/eda/section3/eda362.htm)"
   ]
  },
  {
   "cell_type": "code",
   "execution_count": 7,
   "id": "39a1a288-6570-4517-8b67-c0d676f4199b",
   "metadata": {},
   "outputs": [
    {
     "name": "stdout",
     "output_type": "stream",
     "text": [
      "Testova statistika chi2: 5.56\n",
      "p-hodnota: 0.14\n",
      "Kriticky obor 2.71\n",
      "Nulovou hypotezu na hladine 0.1 zamitame, pokud 5.56 >= 2.71: True\n"
     ]
    }
   ],
   "source": [
    "N = np.array( # kontingencni tabulka\n",
    "    [\n",
    "        [15, 85],\n",
    "        [5, 95]\n",
    "    ]\n",
    ")\n",
    "n = np.sum(N)\n",
    "\n",
    "teoreticke_cetnosti, namerene_cetnosti = [], []\n",
    "for i in range(len(N)):\n",
    "    for j in range(len(N[i])):\n",
    "        Ni_ = np.sum(N[i, :])\n",
    "        N_j = np.sum(N[:, j])\n",
    "        teoreticka_cetnost = (Ni_* N_j) / n\n",
    "        teoreticke_cetnosti.append(teoreticka_cetnost)\n",
    "        namerene_cetnosti.append(N[i,j])\n",
    "        \n",
    "    \n",
    "\n",
    "stat, p_val = scipy.stats.chisquare(namerene_cetnosti, teoreticke_cetnosti)\n",
    "print(f\"Testova statistika chi2: {stat:0.2f}\")\n",
    "print(f\"p-hodnota: {p_val:0.2f}\")\n",
    "\n",
    "alpha = 0.1\n",
    "row = N.shape[0]\n",
    "col = N.shape[1]\n",
    "pocet_stupnu_volnosti = (row-1)*(col-1)\n",
    "kriticky_obor = scipy.stats.chi2.isf(alpha, pocet_stupnu_volnosti)\n",
    "print(f\"Kriticky obor {kriticky_obor:0.2f}\")\n",
    "print(f\"Nulovou hypotezu na hladine {alpha} zamitame, pokud {stat:0.2f} >= {kriticky_obor:0.2f}: {stat >= kriticky_obor}\")"
   ]
  },
  {
   "cell_type": "markdown",
   "id": "07a10c50-b24a-4bf9-b3cf-7dc3c21afe36",
   "metadata": {},
   "source": [
    "# Stacionární rozdělení\n",
    "\n",
    "<img src=\"img/stacionarni-rozdelenei.png\" width=60% />"
   ]
  },
  {
   "cell_type": "code",
   "execution_count": 5,
   "id": "27582ea4-dc0a-4050-8d7d-29e9932ebbb1",
   "metadata": {},
   "outputs": [
    {
     "name": "stdout",
     "output_type": "stream",
     "text": [
      "Počet stacionárních rozdělení: 1\n",
      "0.67 0.33 -0.00 -0.00 -0.00 \n"
     ]
    }
   ],
   "source": [
    "P =  np.matrix(# matice prechodu\n",
    "[\n",
    "   [1/2, 1/2, 0, 0, 0],\n",
    "   [1, 0, 0, 0, 0],\n",
    "   [0, 1/2, 0, 0, 1/2],\n",
    "   [0, 0, 1, 0, 0], \n",
    "   [0, 0, 0, 1, 0], \n",
    "])\n",
    "\n",
    "# stacionární rozdělení\n",
    "W = np.transpose(P-np.eye(P.shape[0])) \n",
    "pi = scipy.linalg.null_space(W)\n",
    "pi = np.transpose(pi/sum(pi)) # normalizace\n",
    "print(f\"Počet stacionárních rozdělení: {len(pi)}\")\n",
    "for row in pi:\n",
    "    for col in row:\n",
    "        print(f\"{col:0.2f}\", end=\" \")\n",
    "    print()"
   ]
  },
  {
   "cell_type": "markdown",
   "id": "02984b0d-9893-41ea-a0a5-d348f83e6324",
   "metadata": {},
   "source": [
    "# Exponenciální funkce\n",
    "<img src=\"img/exp-funkce.png\" width=40% />\n",
    "\n",
    "* [dokumentace](https://docs.scipy.org/doc/scipy/reference/generated/scipy.stats.expon.html)"
   ]
  },
  {
   "cell_type": "code",
   "execution_count": 6,
   "id": "7f839550-8277-4f93-ab8b-4f2338552465",
   "metadata": {},
   "outputs": [
    {
     "name": "stdout",
     "output_type": "stream",
     "text": [
      "Distribuční funkce: 1.00\n",
      "Funkce přežití: 0.00\n"
     ]
    }
   ],
   "source": [
    "lambda1 = 30\n",
    "t = 10\n",
    "print(f\"Distribuční funkce: {1-math.e**(-lambda1*t):0.2f}\") # distribuční funkce\n",
    "print(f\"Funkce přežití: {math.e**(-lambda1*t):0.2f}\")"
   ]
  },
  {
   "cell_type": "markdown",
   "id": "d9fbb02b-41f0-49fd-90ce-35ad1963c91e",
   "metadata": {},
   "source": [
    "# Párový t-test\n",
    "\n",
    "<img src=\"img/parovy-t-test.png\" width=50% />"
   ]
  },
  {
   "cell_type": "code",
   "execution_count": 120,
   "id": "175f3be3-e4c9-4fa1-9e0c-ab00bec2c285",
   "metadata": {},
   "outputs": [
    {
     "name": "stdout",
     "output_type": "stream",
     "text": [
      "Testova statistika T = 1.00\n",
      "Kriticky obor -t_0.05,7 = -1.89\n",
      "1.00 <= -1.89 False\n",
      "Zamitame H0:  False\n"
     ]
    }
   ],
   "source": [
    "X = np.array([39.5, 38, 39, 38, 38.5, 38, 39.5, 38.5])\n",
    "Y = np.array([38, 38.5, 39.5, 39.5, 37, 38.5, 37, 37])\n",
    "Z = X - Y\n",
    "sz = np.sqrt(Z.var(ddof=1)) # POZOR vyberovy rozptyl (n-1) !!!\n",
    "n = len(Z)\n",
    "nsq = np.sqrt(n)\n",
    "T = (Z.mean() / sz ) * nsq\n",
    "alpha=0.05\n",
    "\n",
    "kriticky_obor = scipy.stats.t.isf(q=alpha, df=n-1)\n",
    "print(f\"Testova statistika T = {T:0.2f}\")\n",
    "print(f\"Kriticky obor -t_{alpha},{n-1} = {-kriticky_obor:0.2f}\")\n",
    "print(f\"{T:0.2f} <= {-kriticky_obor:0.2f}\", T <= -kriticky_obor)\n",
    "print(\"Zamitame H0: \",T <= -kriticky_obor)"
   ]
  },
  {
   "cell_type": "code",
   "execution_count": 122,
   "id": "7b78d707-5a8f-48ae-976e-97760280a5c3",
   "metadata": {},
   "outputs": [
    {
     "data": {
      "text/plain": [
       "Ttest_relResult(statistic=1.0, pvalue=0.3506166628202075)"
      ]
     },
     "execution_count": 122,
     "metadata": {},
     "output_type": "execute_result"
    }
   ],
   "source": [
    "# independent: https://docs.scipy.org/doc/scipy/reference/generated/scipy.stats.ttest_ind.html\n",
    "# related: https://docs.scipy.org/doc/scipy/reference/generated/scipy.stats.ttest_rel.html\n",
    "scipy.stats.ttest_rel(X, Y)"
   ]
  },
  {
   "cell_type": "markdown",
   "id": "7938c6f5-c6b5-41a4-ab20-c6c273dcbaf3",
   "metadata": {},
   "source": [
    "# Rychlé výpočty"
   ]
  },
  {
   "cell_type": "code",
   "execution_count": 131,
   "id": "a36590b9-dbec-4763-815d-2f095726af06",
   "metadata": {},
   "outputs": [
    {
     "data": {
      "text/latex": [
       "$\\displaystyle 10$"
      ],
      "text/plain": [
       "10"
      ]
     },
     "execution_count": 131,
     "metadata": {},
     "output_type": "execute_result"
    }
   ],
   "source": [
    "import sympy\n",
    "vyraz = \"binomial(5,3)\"\n",
    "sympy.simplify(vyraz)"
   ]
  }
 ],
 "metadata": {
  "kernelspec": {
   "display_name": "Python 3",
   "language": "python",
   "name": "python3"
  },
  "language_info": {
   "codemirror_mode": {
    "name": "ipython",
    "version": 3
   },
   "file_extension": ".py",
   "mimetype": "text/x-python",
   "name": "python",
   "nbconvert_exporter": "python",
   "pygments_lexer": "ipython3",
   "version": "3.9.5"
  }
 },
 "nbformat": 4,
 "nbformat_minor": 5
}
