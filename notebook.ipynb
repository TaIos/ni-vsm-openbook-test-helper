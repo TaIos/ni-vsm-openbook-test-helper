{
 "cells": [
  {
   "cell_type": "code",
   "execution_count": 29,
   "id": "7f94365f-f209-49cc-9429-326671213918",
   "metadata": {},
   "outputs": [],
   "source": [
    "import math\n",
    "import numpy as np\n",
    "import scipy.stats as st"
   ]
  },
  {
   "cell_type": "markdown",
   "id": "0fb4106b-314f-4d13-9503-024694023d81",
   "metadata": {},
   "source": [
    "# Entropie\n",
    "<img src=\"img/entropie.png\" width=\"50%\"/>"
   ]
  },
  {
   "cell_type": "code",
   "execution_count": 22,
   "id": "e47c642b-8b75-4145-a433-9f365edbd529",
   "metadata": {},
   "outputs": [
    {
     "name": "stdout",
     "output_type": "stream",
     "text": [
      "Entropie: 1.5\n"
     ]
    }
   ],
   "source": [
    "values =[1/2, 1/4, 1/4] # pravdepodobnosti\n",
    "res = 0\n",
    "for x in values:\n",
    "    res -= x * math.log(x,2)\n",
    "print(f\"Entropie: {res}\")"
   ]
  },
  {
   "cell_type": "markdown",
   "id": "39769539-3d6d-41b2-be29-7fc45e2394a5",
   "metadata": {},
   "source": [
    "# Střední délka kódu\n",
    "<img src=\"img/stredni-delka-kodu.png\" width=55%/>"
   ]
  },
  {
   "cell_type": "code",
   "execution_count": 28,
   "id": "26ca7713-d8ac-49ca-83f2-9fd1687a3454",
   "metadata": {},
   "outputs": [
    {
     "name": "stdout",
     "output_type": "stream",
     "text": [
      "Střední délka kódu: 1.5\n"
     ]
    }
   ],
   "source": [
    "ptsLst = [1/2, 1/4, 1/4] # pravdepodobnost kodoveho slova\n",
    "lenLst = [1, 2, 2] # delka kodoveho slova\n",
    "res = 0\n",
    "for p,l in zip(ptsLst, lenLst):\n",
    "    res += l*p\n",
    "print(f\"Střední délka kódu: {res}\")"
   ]
  },
  {
   "cell_type": "markdown",
   "id": "aa0e8e55-bbb1-429c-910b-fb314b173b12",
   "metadata": {},
   "source": [
    "# Test nezávislosti v kontingenčních tabulkách"
   ]
  },
  {
   "cell_type": "code",
   "execution_count": 67,
   "id": "39a1a288-6570-4517-8b67-c0d676f4199b",
   "metadata": {},
   "outputs": [
    {
     "name": "stdout",
     "output_type": "stream",
     "text": [
      "5.555555555555555\n",
      "[[15 85]\n",
      " [ 5 95]]\n"
     ]
    },
    {
     "data": {
      "text/plain": [
       "array([15, 85])"
      ]
     },
     "execution_count": 67,
     "metadata": {},
     "output_type": "execute_result"
    }
   ],
   "source": [
    "N = np.array( # kontingencni tabulka\n",
    "    [\n",
    "    [15, 85],\n",
    "    [5, 95]\n",
    "    ]\n",
    ")\n",
    "n = np.sum(N)\n",
    "\n",
    "chi2 = 0\n",
    "for i in range(len(N)):\n",
    "    for j in range(len(N[i])):\n",
    "        Ni_ = np.sum(N[i, :])\n",
    "        N_j = np.sum(N[:, j])\n",
    "        pred = (Ni_* N_j) / n\n",
    "        chi2 += np.power(N[i,j] - pred, 2) / pred\n",
    "    \n",
    "\n",
    "print(chi2)\n",
    "print(N)\n",
    "# N[:, 1]\n",
    "N[0, :]\n",
    "# st.chi2.sf(Chi2, degrees_of_freedom)"
   ]
  }
 ],
 "metadata": {
  "kernelspec": {
   "display_name": "Python 3",
   "language": "python",
   "name": "python3"
  },
  "language_info": {
   "codemirror_mode": {
    "name": "ipython",
    "version": 3
   },
   "file_extension": ".py",
   "mimetype": "text/x-python",
   "name": "python",
   "nbconvert_exporter": "python",
   "pygments_lexer": "ipython3",
   "version": "3.9.4"
  }
 },
 "nbformat": 4,
 "nbformat_minor": 5
}
