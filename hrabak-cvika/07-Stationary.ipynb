{
 "cells": [
  {
   "cell_type": "markdown",
   "metadata": {},
   "source": [
    "# Markovské řetězce s diskrétním časem"
   ]
  },
  {
   "cell_type": "code",
   "execution_count": null,
   "metadata": {},
   "outputs": [],
   "source": [
    "import numpy as np\n",
    "import scipy.linalg as la"
   ]
  },
  {
   "cell_type": "markdown",
   "metadata": {},
   "source": [
    "## Příklad 7.1"
   ]
  },
  {
   "cell_type": "code",
   "execution_count": null,
   "metadata": {},
   "outputs": [],
   "source": [
    "a = 1/5\n",
    "b = 3/4"
   ]
  },
  {
   "cell_type": "code",
   "execution_count": null,
   "metadata": {},
   "outputs": [],
   "source": [
    "# matice přechodu\n",
    "P = np.matrix([[1-a,a],[b,1-b]])\n",
    "print(\"P =\\n\", P)"
   ]
  },
  {
   "cell_type": "code",
   "execution_count": null,
   "metadata": {},
   "outputs": [],
   "source": [
    "print(np.sum(P,axis = 1))"
   ]
  },
  {
   "cell_type": "code",
   "execution_count": null,
   "metadata": {},
   "outputs": [],
   "source": [
    "# dvoukroková matice přechodu\n",
    "print(\"P^2 = \\n\", P**2 )\n",
    "print(np.sum(P**2,axis = 1))"
   ]
  },
  {
   "cell_type": "code",
   "execution_count": null,
   "metadata": {},
   "outputs": [],
   "source": [
    "# počáteční rozdělení\n",
    "p0 = np.matrix([0,1])\n",
    "print(\"p(0) =\", p0)"
   ]
  },
  {
   "cell_type": "code",
   "execution_count": null,
   "metadata": {},
   "outputs": [],
   "source": [
    "# rozdělení v čase n\n",
    "n = 100\n",
    "pn = p0 * P**n\n",
    "print(\"p(n) =\",pn)"
   ]
  },
  {
   "cell_type": "code",
   "execution_count": null,
   "metadata": {},
   "outputs": [],
   "source": [
    "(15/19, 4/19)"
   ]
  },
  {
   "cell_type": "code",
   "execution_count": null,
   "metadata": {},
   "outputs": [],
   "source": [
    "# stacionární rozdělení\n",
    "W = np.transpose(P-np.eye(P.shape[0])) \n",
    "pi = la.null_space(W)\n",
    "pi = np.transpose(pi/sum(pi)) # normalizace\n",
    "print(\"pi =\",pi)"
   ]
  },
  {
   "cell_type": "code",
   "execution_count": null,
   "metadata": {},
   "outputs": [],
   "source": [
    "pi*P"
   ]
  },
  {
   "cell_type": "code",
   "execution_count": null,
   "metadata": {},
   "outputs": [],
   "source": [
    "# pomocí vlastních čísel\n",
    "D = np.transpose(P)\n",
    "vl_cis, vl_vec = np.linalg.eig(D)\n",
    "print(vl_cis)"
   ]
  },
  {
   "cell_type": "code",
   "execution_count": null,
   "metadata": {},
   "outputs": [],
   "source": [
    "pi = vl_vec[:,0]\n",
    "pi = pi/np.sum(pi)\n",
    "pi = np.transpose(pi)\n",
    "print(pi)"
   ]
  },
  {
   "cell_type": "code",
   "execution_count": null,
   "metadata": {},
   "outputs": [],
   "source": [
    "def StacDist(P):\n",
    "    W = np.transpose(P-np.eye(P.shape[0])) \n",
    "    pi = la.null_space(W)\n",
    "    pi = np.transpose(pi/sum(pi))\n",
    "    return pi"
   ]
  },
  {
   "cell_type": "code",
   "execution_count": null,
   "metadata": {},
   "outputs": [],
   "source": [
    "pi = StacDist(P)\n",
    "print(\"pi =\",pi)"
   ]
  },
  {
   "cell_type": "markdown",
   "metadata": {},
   "source": [
    "## Příklad 7.2"
   ]
  },
  {
   "cell_type": "code",
   "execution_count": null,
   "metadata": {},
   "outputs": [],
   "source": [
    "P = np.matrix([[0.1, 0.2, 0.4, 0.3],\n",
    "               [0.1, 0.2, 0.4, 0.3],\n",
    "               [0.3, 0.4, 0.3, 0],\n",
    "               [0.1, 0.2, 0.4, 0.3]])\n",
    "print(\"P = \\n\", P)\n",
    "pi = StacDist(P)\n",
    "print(\"pi =\",pi)"
   ]
  },
  {
   "cell_type": "code",
   "execution_count": null,
   "metadata": {},
   "outputs": [],
   "source": []
  },
  {
   "cell_type": "code",
   "execution_count": null,
   "metadata": {},
   "outputs": [],
   "source": []
  }
 ],
 "metadata": {
  "kernelspec": {
   "display_name": "Python 3",
   "language": "python",
   "name": "python3"
  },
  "language_info": {
   "codemirror_mode": {
    "name": "ipython",
    "version": 3
   },
   "file_extension": ".py",
   "mimetype": "text/x-python",
   "name": "python",
   "nbconvert_exporter": "python",
   "pygments_lexer": "ipython3",
   "version": "3.9.5"
  }
 },
 "nbformat": 4,
 "nbformat_minor": 4
}
