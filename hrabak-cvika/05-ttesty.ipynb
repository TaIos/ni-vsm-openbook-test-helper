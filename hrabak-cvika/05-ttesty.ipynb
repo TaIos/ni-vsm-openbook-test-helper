{
 "cells": [
  {
   "cell_type": "markdown",
   "id": "technological-japanese",
   "metadata": {},
   "source": [
    "# T-Testy"
   ]
  },
  {
   "cell_type": "code",
   "execution_count": 1,
   "id": "selective-front",
   "metadata": {},
   "outputs": [],
   "source": [
    "import numpy as np\n",
    "import scipy.stats as st"
   ]
  },
  {
   "cell_type": "markdown",
   "id": "least-distribution",
   "metadata": {},
   "source": [
    "## Příklad 5.1"
   ]
  },
  {
   "cell_type": "code",
   "execution_count": 2,
   "id": "metric-infrared",
   "metadata": {},
   "outputs": [],
   "source": [
    "# Změřené množství nápoje\n",
    "x = np.array([0.510, 0.462, 0.451, 0.466, 0.491, 0.503, 0.475, 0.487, 0.512, 0.505])\n",
    "n = len(x)"
   ]
  },
  {
   "cell_type": "code",
   "execution_count": 3,
   "id": "bored-reform",
   "metadata": {},
   "outputs": [
    {
     "name": "stdout",
     "output_type": "stream",
     "text": [
      "0.4862 0.4861999999999999\n"
     ]
    }
   ],
   "source": [
    "# Průměr\n",
    "Xn = sum(x)/n\n",
    "print(Xn, np.mean(x))"
   ]
  },
  {
   "cell_type": "code",
   "execution_count": 6,
   "id": "after-dependence",
   "metadata": {},
   "outputs": [
    {
     "name": "stdout",
     "output_type": "stream",
     "text": [
      "0.0004721777777777776 0.0004721777777777777\n",
      "0.021729652039960915 0.02172965203996092\n"
     ]
    }
   ],
   "source": [
    "# Výběrový rozptyl\n",
    "sn2 = sum((x-Xn)**2/(n-1))\n",
    "sn = np.sqrt(sn2)\n",
    "print(sn2, np.var(x, ddof = 1)) # , ddof = 1\n",
    "print(sn, np.std(x, ddof = 1)) # , ddof = 1"
   ]
  },
  {
   "cell_type": "markdown",
   "id": "graphic-mounting",
   "metadata": {},
   "source": [
    "$H_0: \\mu \\geq 0.5$ vs. $H_A: \\mu < 0.5$"
   ]
  },
  {
   "cell_type": "code",
   "execution_count": 7,
   "id": "muslim-basement",
   "metadata": {},
   "outputs": [
    {
     "name": "stdout",
     "output_type": "stream",
     "text": [
      "-2.008289485265134\n"
     ]
    }
   ],
   "source": [
    "# testová statistika\n",
    "mu0 = 0.5\n",
    "T = (Xn - mu0)/sn*np.sqrt(n)\n",
    "print(T)"
   ]
  },
  {
   "cell_type": "code",
   "execution_count": 10,
   "id": "alien-bottom",
   "metadata": {},
   "outputs": [
    {
     "name": "stdout",
     "output_type": "stream",
     "text": [
      "-1.8331129326536335 -1.8331129326536337\n"
     ]
    }
   ],
   "source": [
    "# kritická hodnota\n",
    "alpha = 0.05\n",
    "t = -st.t.ppf(1-alpha,n-1)\n",
    "print(t, -st.t.isf(alpha,n-1))"
   ]
  },
  {
   "cell_type": "code",
   "execution_count": 11,
   "id": "helpful-cleaning",
   "metadata": {},
   "outputs": [
    {
     "name": "stdout",
     "output_type": "stream",
     "text": [
      "0.03776810459633898\n"
     ]
    }
   ],
   "source": [
    "# p-hodnota\n",
    "p = st.t.cdf(T,n-1)\n",
    "print(p)"
   ]
  },
  {
   "cell_type": "code",
   "execution_count": 12,
   "id": "racial-cartoon",
   "metadata": {},
   "outputs": [
    {
     "data": {
      "text/plain": [
       "Ttest_1sampResult(statistic=-2.00828948526515, pvalue=0.037768104596338024)"
      ]
     },
     "execution_count": 12,
     "metadata": {},
     "output_type": "execute_result"
    }
   ],
   "source": [
    "st.ttest_1samp(x, mu0, alternative = 'less')"
   ]
  },
  {
   "cell_type": "markdown",
   "id": "shaped-prairie",
   "metadata": {},
   "source": [
    "## Příklad 5.2"
   ]
  },
  {
   "cell_type": "code",
   "execution_count": 13,
   "id": "aggregate-interstate",
   "metadata": {},
   "outputs": [
    {
     "name": "stdout",
     "output_type": "stream",
     "text": [
      "0.4 0.5\n"
     ]
    }
   ],
   "source": [
    "# data\n",
    "n = 25\n",
    "k = 10\n",
    "# popisné hodnoty\n",
    "Xn = k/n\n",
    "sn = np.sqrt(k/(n-1)-k**2/n/(n-1))\n",
    "print(Xn, sn)"
   ]
  },
  {
   "cell_type": "code",
   "execution_count": 14,
   "id": "departmental-patio",
   "metadata": {},
   "outputs": [
    {
     "name": "stdout",
     "output_type": "stream",
     "text": [
      "[1. 0. 1. 1. 0. 0. 0. 0. 0. 1. 0. 1. 0. 0. 1. 0. 0. 1. 1. 1. 0. 0. 0. 1.\n",
      " 0.]\n",
      "0.4 0.5\n"
     ]
    }
   ],
   "source": [
    "# simulace téhož\n",
    "x = np.random.permutation(np.append(np.zeros([1,n-k]),np.ones([1,k])))\n",
    "Xn = np.mean(x)\n",
    "sn = np.std(x, ddof = 1)\n",
    "print(x)\n",
    "print(Xn, sn)"
   ]
  },
  {
   "cell_type": "markdown",
   "id": "marked-beaver",
   "metadata": {},
   "source": [
    "$H_0: \\mu = 0.5$ vs. $H_A: \\mu \\neq 0.5$"
   ]
  },
  {
   "cell_type": "code",
   "execution_count": 15,
   "id": "fabulous-adrian",
   "metadata": {},
   "outputs": [
    {
     "name": "stdout",
     "output_type": "stream",
     "text": [
      "-0.9999999999999998 2.063898561628021\n"
     ]
    }
   ],
   "source": [
    "# ručně\n",
    "mu = 0.5\n",
    "alpha = 0.05\n",
    "T = (Xn - mu0)/sn*np.sqrt(n)\n",
    "t = st.t.isf(alpha/2,n-1)\n",
    "print(T,t)"
   ]
  },
  {
   "cell_type": "code",
   "execution_count": 16,
   "id": "fluid-electric",
   "metadata": {},
   "outputs": [
    {
     "data": {
      "text/plain": [
       "Ttest_1sampResult(statistic=-0.9999999999999998, pvalue=0.32728688127978545)"
      ]
     },
     "execution_count": 16,
     "metadata": {},
     "output_type": "execute_result"
    }
   ],
   "source": [
    "# pomocí funkce ttest\n",
    "st.ttest_1samp(x, mu0, alternative = 'two-sided')"
   ]
  },
  {
   "cell_type": "markdown",
   "id": "elder-spring",
   "metadata": {},
   "source": [
    "## Příklad 5.3"
   ]
  },
  {
   "cell_type": "code",
   "execution_count": 18,
   "id": "documented-sitting",
   "metadata": {},
   "outputs": [
    {
     "name": "stdout",
     "output_type": "stream",
     "text": [
      "[-0.12  0.29  0.26 -0.11  0.2   0.33 -0.2   0.08  0.38  0.6 ]\n"
     ]
    }
   ],
   "source": [
    "# data\n",
    "b = np.array([0.82, 1.08, 1.01, 0.63, 1.45, 1.12, 0.56, 0.83, 1.16, 1.38])\n",
    "q = np.array([0.94, 0.79, 0.75, 0.74, 1.25, 0.79, 0.76, 0.75, 0.78, 0.78])\n",
    "z = b - q\n",
    "print(z)"
   ]
  },
  {
   "cell_type": "markdown",
   "id": "facial-korea",
   "metadata": {},
   "source": [
    "$H_0: \\mu_B \\leq \\mu_Q$ vs. $H_A: \\mu_B > \\mu_Q$\n",
    "\n",
    "$H_0: \\mu_Z \\leq 0$ vs. $H_A: \\mu_Z > 0$"
   ]
  },
  {
   "cell_type": "code",
   "execution_count": 19,
   "id": "civilian-shannon",
   "metadata": {},
   "outputs": [
    {
     "data": {
      "text/plain": [
       "Ttest_1sampResult(statistic=2.1201062395856716, pvalue=0.03151335300716899)"
      ]
     },
     "execution_count": 19,
     "metadata": {},
     "output_type": "execute_result"
    }
   ],
   "source": [
    "# pomocí funkce ttest\n",
    "st.ttest_1samp(z, 0, alternative = 'greater')"
   ]
  },
  {
   "cell_type": "code",
   "execution_count": 22,
   "id": "hollywood-palmer",
   "metadata": {},
   "outputs": [
    {
     "data": {
      "text/plain": [
       "0.03151879258974655"
      ]
     },
     "execution_count": 22,
     "metadata": {},
     "output_type": "execute_result"
    }
   ],
   "source": [
    "1-st.t.cdf(2.12,9)"
   ]
  },
  {
   "cell_type": "markdown",
   "id": "utility-consumer",
   "metadata": {},
   "source": [
    "## Příklad 5.4"
   ]
  },
  {
   "cell_type": "code",
   "execution_count": null,
   "id": "interesting-sustainability",
   "metadata": {},
   "outputs": [],
   "source": [
    "# data\n",
    "x = np.array([0.510, 0.462, 0.451, 0.466])\n",
    "y = np.array([0.491, 0.503, 0.475, 0.487, 0.512, 0.505])\n",
    "\n",
    "n = len(x)\n",
    "m = len(y)\n",
    "Xn = np.mean(x)\n",
    "Ym = np.mean(y)\n",
    "sX2 = np.var(x, ddof=1)\n",
    "sY2 = np.var(y, ddof=1)\n",
    "sX = np.std(x, ddof=1)\n",
    "sY = np.std(y, ddof=1)\n",
    "print('Xn = ', Xn, \", sX = \", sX, \", n = \", n , sep = \"\")\n",
    "print('Ym = ', Ym, \", sY = \", sY, \", m = \", m , sep = \"\")"
   ]
  },
  {
   "cell_type": "markdown",
   "id": "ordered-substance",
   "metadata": {},
   "source": [
    "### Různé rozptyly - není důvod předpokládat, že by byly stejné"
   ]
  },
  {
   "cell_type": "markdown",
   "id": "macro-valuation",
   "metadata": {},
   "source": [
    "a) $H_0: \\mu_X = \\mu_Y$ vs. $H_A: \\mu_X \\neq \\mu_Y$"
   ]
  },
  {
   "cell_type": "code",
   "execution_count": null,
   "id": "charitable-atlas",
   "metadata": {},
   "outputs": [],
   "source": [
    "# ručně\n",
    "alpha = 0.05\n",
    "sd2 = (sX2/n + sY2/m)\n",
    "nd = sd2**2/((sX2/n)**2/(n-1) + (sY2/m)**2/(m-1))\n",
    "T = (Xn - Ym)/np.sqrt(sd2)\n",
    "t = st.t.isf(alpha/2,nd)\n",
    "p = 2*st.t.sf(np.abs(T),nd)\n",
    "print(\"T = \", T, \", t = \", t , \", nd = \", nd, sep=\"\")\n",
    "print(\"p = \", p)"
   ]
  },
  {
   "cell_type": "code",
   "execution_count": null,
   "id": "understanding-attack",
   "metadata": {},
   "outputs": [],
   "source": [
    "# pomocí funkce ttest\n",
    "st.ttest_ind(x, y, alternative = 'two-sided', equal_var = False)"
   ]
  },
  {
   "cell_type": "markdown",
   "id": "supreme-draft",
   "metadata": {},
   "source": [
    "b) $H_0: \\mu_X \\geq \\mu_Y$ vs. $H_A: \\mu_X < \\mu_Y$"
   ]
  },
  {
   "cell_type": "code",
   "execution_count": null,
   "id": "false-brand",
   "metadata": {},
   "outputs": [],
   "source": [
    "t = -st.t.isf(alpha,nd)\n",
    "p = st.t.cdf(T,nd)\n",
    "print(\"T = \", T, \", t = \", t , \", nd = \", nd, sep=\"\")\n",
    "print(\"p = \", p)"
   ]
  },
  {
   "cell_type": "code",
   "execution_count": null,
   "id": "latest-clone",
   "metadata": {},
   "outputs": [],
   "source": [
    "st.ttest_ind(x, y, alternative = 'less', equal_var = False)"
   ]
  },
  {
   "cell_type": "markdown",
   "id": "neural-wings",
   "metadata": {},
   "source": [
    "### Shodné rozptyly - je důvod předpokládat shodu, nebo si to otestuji"
   ]
  },
  {
   "cell_type": "code",
   "execution_count": null,
   "id": "informal-department",
   "metadata": {},
   "outputs": [],
   "source": [
    "# Test shody rozptylů\n",
    "## F - test\n",
    "F = sX2 / sY2\n",
    "p = 2*st.f.sf(F, n-1, m-1)\n",
    "print(\"F = \", F, \", p = \", p, sep=\"\")"
   ]
  },
  {
   "cell_type": "code",
   "execution_count": null,
   "id": "partial-convert",
   "metadata": {},
   "outputs": [],
   "source": [
    "# Test normality\n",
    "st.normaltest(x)\n",
    "st.normaltest(y)"
   ]
  },
  {
   "cell_type": "code",
   "execution_count": null,
   "id": "cathedral-loading",
   "metadata": {},
   "outputs": [],
   "source": [
    "## Levenův \n",
    "st.levene(x,y)"
   ]
  },
  {
   "cell_type": "markdown",
   "id": "wrapped-habitat",
   "metadata": {},
   "source": [
    "a) $H_0: \\mu_X = \\mu_Y$ vs. $H_A: \\mu_X \\neq \\mu_Y$"
   ]
  },
  {
   "cell_type": "code",
   "execution_count": null,
   "id": "supported-option",
   "metadata": {},
   "outputs": [],
   "source": [
    "# ručně\n",
    "s12 = np.sqrt(((n-1)*sX2 + (m-1)*sY2)/(n+m-2))\n",
    "T = (Xn - Ym)/s12*np.sqrt(n*m/(n+m))\n",
    "t = st.t.isf(alpha/2,n + m - 2)\n",
    "p = 2*st.t.sf(np.abs(T), df = n + m - 2)\n",
    "print(\"T = \", T, \", t = \", t,\", p = \", p, sep=\"\")"
   ]
  },
  {
   "cell_type": "code",
   "execution_count": null,
   "id": "essential-trademark",
   "metadata": {},
   "outputs": [],
   "source": [
    "# pomocí funkce ttest\n",
    "st.ttest_ind(x, y, alternative = 'two-sided', equal_var = True)"
   ]
  },
  {
   "cell_type": "markdown",
   "id": "filled-approach",
   "metadata": {},
   "source": [
    "b) $H_0: \\mu_X \\geq \\mu_Y$ vs. $H_A: \\mu_X < \\mu_Y$"
   ]
  },
  {
   "cell_type": "code",
   "execution_count": null,
   "id": "promising-glory",
   "metadata": {},
   "outputs": [],
   "source": [
    "# pomocí funkce ttest\n",
    "st.ttest_ind(x, y, alternative = 'less', equal_var = True)"
   ]
  },
  {
   "cell_type": "code",
   "execution_count": null,
   "id": "romance-consultation",
   "metadata": {},
   "outputs": [],
   "source": []
  }
 ],
 "metadata": {
  "kernelspec": {
   "display_name": "Python 3",
   "language": "python",
   "name": "python3"
  },
  "language_info": {
   "codemirror_mode": {
    "name": "ipython",
    "version": 3
   },
   "file_extension": ".py",
   "mimetype": "text/x-python",
   "name": "python",
   "nbconvert_exporter": "python",
   "pygments_lexer": "ipython3",
   "version": "3.9.5"
  }
 },
 "nbformat": 4,
 "nbformat_minor": 5
}
