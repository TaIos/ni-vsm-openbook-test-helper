{
 "cells": [
  {
   "cell_type": "markdown",
   "id": "behavioral-assurance",
   "metadata": {},
   "source": [
    "# Testy nezávislosti"
   ]
  },
  {
   "cell_type": "code",
   "execution_count": 2,
   "id": "tropical-difference",
   "metadata": {},
   "outputs": [],
   "source": [
    "import numpy as np\n",
    "import scipy.stats as st"
   ]
  },
  {
   "cell_type": "markdown",
   "id": "choice-collar",
   "metadata": {},
   "source": [
    "## Příklad 6.1"
   ]
  },
  {
   "cell_type": "code",
   "execution_count": 1,
   "id": "afraid-austria",
   "metadata": {},
   "outputs": [],
   "source": [
    "# data\n",
    "x = [0.055 , 0.068 , 0.102 , 0.105 , 0.118 , 0.160 , 0.178 , 0.203 , 0.260 , 0.274, 0.289 , 0.291 , 0.346 , 0.358 , 0.366 , 0.472 , 0.588 , 0.617 , 0.721 , 0.932]\n",
    "n = len(x)"
   ]
  },
  {
   "cell_type": "code",
   "execution_count": 3,
   "id": "welcome-tournament",
   "metadata": {},
   "outputs": [
    {
     "name": "stdout",
     "output_type": "stream",
     "text": [
      "Edges = [0.   0.25 0.5  0.75 1.  ]\n",
      "n = 20, Ni = [8 8 3 1]\n"
     ]
    }
   ],
   "source": [
    "# četnosti\n",
    "k = 4 #počet binů\n",
    "Ni, edges = np.histogram(x, bins = k, range = (0,1), density = None)\n",
    "n = np.sum(Ni)\n",
    "print(\"Edges =\" ,edges)\n",
    "print(\"n = \", n, \", Ni = \", Ni, sep=\"\")\n"
   ]
  },
  {
   "cell_type": "code",
   "execution_count": 6,
   "id": "single-ethernet",
   "metadata": {},
   "outputs": [
    {
     "name": "stdout",
     "output_type": "stream",
     "text": [
      "pi = [0.25 0.25 0.25 0.25]\n",
      "npi = [5. 5. 5. 5.]\n"
     ]
    }
   ],
   "source": [
    "# teoretické četnosti\n",
    "k = 4\n",
    "pi = np.ones(k) * 1/k\n",
    "npi = n * pi\n",
    "print(\"pi =\", pi)\n",
    "print(\"npi =\", npi)"
   ]
  },
  {
   "cell_type": "code",
   "execution_count": 7,
   "id": "generic-saudi",
   "metadata": {},
   "outputs": [
    {
     "name": "stdout",
     "output_type": "stream",
     "text": [
      "Chi2 = 7.6000000000000005\n",
      "chi2 = 7.814727903251178\n"
     ]
    }
   ],
   "source": [
    "# testová statistika\n",
    "Chi2 = sum((Ni - npi)*(Ni - npi)/npi)\n",
    "print(\"Chi2 =\", Chi2)\n",
    "# kritická hodnota\n",
    "alpha = 0.05\n",
    "df = k-1\n",
    "chi2 = st.chi2.isf(alpha,df)\n",
    "print(\"chi2 =\", chi2)"
   ]
  },
  {
   "cell_type": "code",
   "execution_count": 8,
   "id": "atlantic-circulation",
   "metadata": {},
   "outputs": [
    {
     "name": "stdout",
     "output_type": "stream",
     "text": [
      "p = 0.05504393637887805\n"
     ]
    }
   ],
   "source": [
    "# p-hodnota\n",
    "p = st.chi2.sf(Chi2,df) # = 1-st.chi2.cdf(Chi2,df)\n",
    "print(\"p =\", p)"
   ]
  },
  {
   "cell_type": "code",
   "execution_count": 9,
   "id": "polar-period",
   "metadata": {},
   "outputs": [
    {
     "data": {
      "text/plain": [
       "Power_divergenceResult(statistic=7.6000000000000005, pvalue=0.05504393637887805)"
      ]
     },
     "execution_count": 9,
     "metadata": {},
     "output_type": "execute_result"
    }
   ],
   "source": [
    "# pomocí funkce\n",
    "st.chisquare(Ni,npi)"
   ]
  },
  {
   "cell_type": "markdown",
   "id": "preliminary-player",
   "metadata": {},
   "source": [
    "## Příklad 6.2"
   ]
  },
  {
   "cell_type": "code",
   "execution_count": 10,
   "id": "transsexual-split",
   "metadata": {},
   "outputs": [
    {
     "name": "stdout",
     "output_type": "stream",
     "text": [
      "Nij =\n",
      " [[ 1 11  7 21]\n",
      " [ 0  8 23 29]]\n",
      "n = 100\n"
     ]
    }
   ],
   "source": [
    "# skutečné četnosti\n",
    "Nij = np.matrix([[1, 11, 7, 21],[0, 8, 23, 29]])\n",
    "n = np.sum(Nij)\n",
    "print(\"Nij =\\n\", Nij)\n",
    "print(\"n =\", n)"
   ]
  },
  {
   "cell_type": "code",
   "execution_count": 11,
   "id": "resident-musical",
   "metadata": {},
   "outputs": [
    {
     "name": "stdout",
     "output_type": "stream",
     "text": [
      "pi_ =\n",
      " [[0.4]\n",
      " [0.6]]\n",
      "p_j =\n",
      " [[0.01 0.19 0.3  0.5 ]]\n"
     ]
    }
   ],
   "source": [
    "# odhady marginál\n",
    "pi_ = np.sum(Nij, axis = 1)/n\n",
    "p_j = np.sum(Nij, axis = 0)/n\n",
    "print(\"pi_ =\\n\", pi_)\n",
    "print(\"p_j =\\n\", p_j)"
   ]
  },
  {
   "cell_type": "code",
   "execution_count": 12,
   "id": "likely-parcel",
   "metadata": {},
   "outputs": [
    {
     "name": "stdout",
     "output_type": "stream",
     "text": [
      "pipj =\n",
      " [[0.004 0.076 0.12  0.2  ]\n",
      " [0.006 0.114 0.18  0.3  ]]\n",
      "npipj =\n",
      " [[ 0.4  7.6 12.  20. ]\n",
      " [ 0.6 11.4 18.  30. ]]\n"
     ]
    }
   ],
   "source": [
    "# teoretické četnosti\n",
    "pipj = np.matmul(pi_,p_j)\n",
    "print(\"pipj =\\n\",pipj)\n",
    "npipj = n * pipj\n",
    "print(\"npipj =\\n\",npipj)"
   ]
  },
  {
   "cell_type": "code",
   "execution_count": 13,
   "id": "tough-grade",
   "metadata": {},
   "outputs": [
    {
     "name": "stdout",
     "output_type": "stream",
     "text": [
      "Nij =\n",
      " [[12  7 21]\n",
      " [ 8 23 29]]\n",
      "n = 100\n"
     ]
    }
   ],
   "source": [
    "# nutné sloučit 1. a 2. sloupec\n",
    "cc12 = np.sum(Nij[:,:2], axis = 1)\n",
    "cc34 = Nij[:,2:]\n",
    "Nij = np.append(cc12, cc34, axis = 1)\n",
    "n = np.sum(Nij)\n",
    "print(\"Nij =\\n\", Nij)\n",
    "print(\"n =\", n)"
   ]
  },
  {
   "cell_type": "code",
   "execution_count": 14,
   "id": "standard-vanilla",
   "metadata": {},
   "outputs": [
    {
     "name": "stdout",
     "output_type": "stream",
     "text": [
      "pi_ =\n",
      " [[0.4]\n",
      " [0.6]]\n",
      "p_j =\n",
      " [[0.2 0.3 0.5]]\n",
      "pipj =\n",
      " [[0.08 0.12 0.2 ]\n",
      " [0.12 0.18 0.3 ]]\n",
      "npipj =\n",
      " [[ 8. 12. 20.]\n",
      " [12. 18. 30.]]\n"
     ]
    }
   ],
   "source": [
    "# odhady marginál\n",
    "pi_ = np.sum(Nij, axis = 1)/n\n",
    "p_j = np.sum(Nij, axis = 0)/n\n",
    "print(\"pi_ =\\n\", pi_)\n",
    "print(\"p_j =\\n\", p_j)\n",
    "# teoretické četnosti\n",
    "pipj = np.matmul(pi_,p_j)\n",
    "print(\"pipj =\\n\",pipj)\n",
    "npipj = n * pipj\n",
    "print(\"npipj =\\n\",npipj)"
   ]
  },
  {
   "cell_type": "code",
   "execution_count": 15,
   "id": "knowing-africa",
   "metadata": {},
   "outputs": [
    {
     "name": "stdout",
     "output_type": "stream",
     "text": [
      "Chi2 = 6.888888888888886\n",
      "df = 2\n",
      "chi2 = 5.991464547107983\n"
     ]
    }
   ],
   "source": [
    "# testová statistika\n",
    "Chi2 = np.sum(np.square(Nij - npipj)/npipj)\n",
    "print(\"Chi2 =\", Chi2)\n",
    "# kritická hodnota\n",
    "alpha = 0.05\n",
    "df = (np.size(Nij,axis =0) - 1)*(np.size(Nij,axis =1) - 1)\n",
    "print(\"df =\",df)\n",
    "chi2 = st.chi2.isf(alpha,df)\n",
    "print(\"chi2 =\", chi2)"
   ]
  },
  {
   "cell_type": "code",
   "execution_count": 16,
   "id": "floral-emperor",
   "metadata": {},
   "outputs": [
    {
     "name": "stdout",
     "output_type": "stream",
     "text": [
      "p = 0.031922491834895754\n"
     ]
    }
   ],
   "source": [
    "# p-hodnota\n",
    "p = st.chi2.sf(Chi2,df) # = 1-st.chi2.cdf(Chi2,df)\n",
    "print(\"p =\", p)"
   ]
  },
  {
   "cell_type": "code",
   "execution_count": 17,
   "id": "dated-director",
   "metadata": {},
   "outputs": [
    {
     "name": "stdout",
     "output_type": "stream",
     "text": [
      "Chi2 = 6.888888888888889\n",
      "df = 2\n",
      "p = 0.031922491834895705\n"
     ]
    }
   ],
   "source": [
    "# pomocí funkce\n",
    "Chi2, p, df, _ = st.chi2_contingency(Nij, correction = False)\n",
    "print(\"Chi2 =\", Chi2)\n",
    "print(\"df =\",df)\n",
    "print(\"p =\", p)"
   ]
  },
  {
   "cell_type": "code",
   "execution_count": null,
   "id": "capital-longitude",
   "metadata": {},
   "outputs": [],
   "source": []
  }
 ],
 "metadata": {
  "kernelspec": {
   "display_name": "Python 3",
   "language": "python",
   "name": "python3"
  },
  "language_info": {
   "codemirror_mode": {
    "name": "ipython",
    "version": 3
   },
   "file_extension": ".py",
   "mimetype": "text/x-python",
   "name": "python",
   "nbconvert_exporter": "python",
   "pygments_lexer": "ipython3",
   "version": "3.9.5"
  }
 },
 "nbformat": 4,
 "nbformat_minor": 5
}
